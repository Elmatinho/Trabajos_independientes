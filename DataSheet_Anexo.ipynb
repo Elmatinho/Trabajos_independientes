{
 "cells": [
  {
   "cell_type": "markdown",
   "metadata": {},
   "source": [
    "# Matplotlib"
   ]
  },
  {
   "cell_type": "markdown",
   "metadata": {},
   "source": [
    "## formato a los graficos\n",
    "creas una clase donde aqui le vas añadiendo lo que deseas en el grafico, asi lo tienes estandarizado"
   ]
  },
  {
   "cell_type": "code",
   "execution_count": null,
   "metadata": {},
   "outputs": [],
   "source": [
    "def prettify_graph(graph):\n",
    "    \"\"\"Modify the given graph according to Jimmy's requests: add a title, make the y-axis\n",
    "    start at 0, label the y-axis. (And, if you're feeling ambitious, format the tick marks\n",
    "    as dollar amounts using the \"$\" symbol.)\n",
    "    \"\"\"\n",
    "    graph.set_title(\"Results of 500 slot machine pulls\")\n",
    "    graph.set_ylim(0)\n",
    "    graph.set_ylabel('Balance')\n",
    "    # Complete steps 2 and 3 here\n",
    "    ticks=graph.get_yticks()\n",
    "    new_labels = ['${}'.format(int(amt)) for amt in ticks]\n",
    "    graph.set_yticklabels(new_labels)\n",
    "    \n",
    "\n",
    "graph = jimmy_slots.get_graph()\n",
    "prettify_graph(graph)\n",
    "graph"
   ]
  },
  {
   "cell_type": "markdown",
   "metadata": {},
   "source": [
    "## formateando los ticks\n",
    "para formatear o darle un formato a los ticks es importante seguir el siguiente paso a paso"
   ]
  },
  {
   "cell_type": "code",
   "execution_count": null,
   "metadata": {},
   "outputs": [],
   "source": [
    "    ticks=graph.get_yticks()# obtengo los ticks \n",
    "    new_labels = ['${}'.format(int(amt)) for amt in ticks] #les doy el formato\n",
    "    graph.set_yticklabels(new_labels) # lo aplico"
   ]
  },
  {
   "cell_type": "markdown",
   "metadata": {},
   "source": [
    "## Subplot con grid distintos"
   ]
  },
  {
   "cell_type": "code",
   "execution_count": 17,
   "metadata": {},
   "outputs": [
    {
     "data": {
      "image/png": "[encoded data removed]",
      "text/plain": [
       "<Figure size 432x288 with 5 Axes>"
      ]
     },
     "metadata": {},
     "output_type": "display_data"
    }
   ],
   "source": [
    "import matplotlib.pyplot as plt\n",
    "from matplotlib.gridspec import GridSpec\n",
    "\n",
    "\n",
    "def format_axes(fig):\n",
    "    for i, ax in enumerate(fig.axes):\n",
    "        ax.text(0.5, 0.5, \"ax%d\" % (i+1), va=\"center\", ha=\"center\")\n",
    "        ax.tick_params(labelbottom=False, labelleft=False)\n",
    "\n",
    "fig = plt.figure(constrained_layout=True)\n",
    "\n",
    "gs = GridSpec(3, 3, figure=fig)\n",
    "ax1 = fig.add_subplot(gs[0, :])\n",
    "# identical to ax1 = plt.subplot(gs.new_subplotspec((0, 0), colspan=3))\n",
    "ax2 = fig.add_subplot(gs[1, :2])\n",
    "ax3 = fig.add_subplot(gs[1:, 2])\n",
    "ax4 = fig.add_subplot(gs[2, 0])\n",
    "ax5 = fig.add_subplot(gs[2, 1])\n",
    "\n",
    "fig.suptitle(\"GridSpec\")\n",
    "format_axes(fig)\n",
    "\n",
    "plt.show()"
   ]
  },
  {
   "cell_type": "markdown",
   "metadata": {},
   "source": [
    "## Subplot con grid iguales"
   ]
  },
  {
   "cell_type": "code",
   "execution_count": 2,
   "metadata": {},
   "outputs": [
    {
     "data": {
      "image/png": "[encoded data removed]",
      "text/plain": [
       "<Figure size 432x288 with 4 Axes>"
      ]
     },
     "metadata": {
      "needs_background": "light"
     },
     "output_type": "display_data"
    }
   ],
   "source": [
    "import matplotlib.pyplot as plt\n",
    "\n",
    "\n",
    "def example_plot(ax):\n",
    "    ax.plot([1, 2])\n",
    "    ax.set_xlabel('x-label', fontsize=12)\n",
    "    ax.set_ylabel('y-label', fontsize=12)\n",
    "    ax.set_title('Title', fontsize=14)\n",
    "fig, axs = plt.subplots(nrows=2, ncols=2, constrained_layout=True)\n",
    "\n",
    "for ax in axs.flat:\n",
    "    example_plot(ax)"
   ]
  },
  {
   "cell_type": "markdown",
   "metadata": {},
   "source": [
    "Ajustando el tamaño de los ticks labels en matplotlib"
   ]
  },
  {
   "cell_type": "code",
   "execution_count": null,
   "metadata": {},
   "outputs": [],
   "source": [
    "plt.tick_params(axis='y',which='major',labelsize=5)\n",
    "plt.tick_params(axis='x',which='major',labelsize=5)\n",
    "ax.tick_params(axis='both', which='major', labelsize=10)\n",
    "ax.tick_params(axis='both', which='minor', labelsize=8)"
   ]
  },
  {
   "cell_type": "markdown",
   "metadata": {},
   "source": [
    "## En bokeh"
   ]
  },
  {
   "cell_type": "code",
   "execution_count": null,
   "metadata": {},
   "outputs": [],
   "source": [
    "from bokeh.plotting import figure, show\n",
    "from bokeh.io import output_notebook\n",
    "output_notebook()\n",
    "\n",
    "from bokeh.models import NumeralTickFormatter\n",
    "p = figure(width=600, height=400,\n",
    "            x_axis_label='Años',\n",
    "            y_axis_label='Energía en kwh',\n",
    "            title='Variación de la energía en kwh a través de los años')\n",
    "\n",
    "# add a line renderer\n",
    "residencial=anios[anios['tipo_clientes']=='Residencial']\n",
    "no_residencial=anios[anios['tipo_clientes']!='Residencial']\n",
    "p.line(residencial['anio'], residencial['energia_kwh'],legend_label=\"Residencial\", line_width=2)\n",
    "p.line(no_residencial['anio'], no_residencial['energia_kwh'],legend_label=\"No residencial\",color='red', line_width=2)\n",
    "p.yaxis[0].formatter = NumeralTickFormatter(format=\"0,0\")\n",
    "\n",
    "\n",
    "show(p)"
   ]
  },
  {
   "cell_type": "markdown",
   "metadata": {},
   "source": [
    "# Python general"
   ]
  },
  {
   "cell_type": "markdown",
   "metadata": {},
   "source": [
    "## otra forma de crear variables con ciclos for\n",
    "en vez de ocupar la forma tradicional de asignar variables con ciclos for, puedes usar la siguente expresion"
   ]
  },
  {
   "cell_type": "code",
   "execution_count": null,
   "metadata": {},
   "outputs": [],
   "source": [
    "lista=[]\n",
    "x=[]\n",
    "# forma clásica\n",
    "for i in lista:\n",
    "    if i >10:\n",
    "        x.append(True)\n",
    "#forma moderna\n",
    "x=[i>10 for i in lista]"
   ]
  },
  {
   "cell_type": "markdown",
   "metadata": {},
   "source": [
    "## Conexion a un servidos Mysql"
   ]
  },
  {
   "cell_type": "code",
   "execution_count": null,
   "metadata": {},
   "outputs": [],
   "source": [
    "import mysql.connector\n",
    "database= mysql.connector.connect(\n",
    "            host='172.16.119.148',\n",
    "            user='root',\n",
    "            passwd='..s2r2nd3p3t3',\n",
    "            database='otrs'\n",
    ")\n",
    "\n",
    "cursorObject = database.cursor()\n",
    "\n",
    "query= 'SELECT * FROM ticket'\n",
    "cursorObject.execute(query)\n",
    "\n",
    "myresult= cursorObject.fetchall()\n",
    "\n",
    "num_fields = len(cursorObject.description)\n",
    "field_names = [i[0] for i in cursorObject.description]\n",
    "\n",
    "#for x in myresult:\n",
    "    #print(x)\n",
    "\n",
    "database.close()"
   ]
  }
 ],
 "metadata": {
  "interpreter": {
   "hash": "82f297aed5a1f891a9c998abd3debcb12192d16a341539449b62f39c7e199530"
  },
  "kernelspec": {
   "display_name": "Python 3.9.11 ('myenv')",
   "language": "python",
   "name": "python3"
  },
  "language_info": {
   "codemirror_mode": {
    "name": "ipython",
    "version": 3
   },
   "file_extension": ".py",
   "mimetype": "text/x-python",
   "name": "python",
   "nbconvert_exporter": "python",
   "pygments_lexer": "ipython3",
   "version": "3.9.11"
  },
  "orig_nbformat": 4
 },
 "nbformat": 4,
 "nbformat_minor": 2
}
